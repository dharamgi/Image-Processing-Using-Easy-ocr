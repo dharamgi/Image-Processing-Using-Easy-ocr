{
  "nbformat": 4,
  "nbformat_minor": 0,
  "metadata": {
    "colab": {
      "name": "easy-ocr-demo-hindi.ipynb",
      "provenance": [],
      "collapsed_sections": []
    },
    "kernelspec": {
      "name": "python3",
      "display_name": "Python 3"
    },
    "accelerator": "GPU"
  },
  "cells": [
    {
      "cell_type": "code",
      "metadata": {
        "id": "gGnaQzjyhxhu",
        "colab_type": "code",
        "colab": {}
      },
      "source": [
        "!pip install easyocr"
      ],
      "execution_count": null,
      "outputs": []
    },
    {
      "cell_type": "code",
      "metadata": {
        "id": "WOxu3m1aq8gC",
        "colab_type": "code",
        "colab": {}
      },
      "source": [
        "import matplotlib.pyplot as plt\n",
        "import cv2\n",
        "import easyocr\n",
        "from pylab import rcParams\n",
        "from IPython.display import Image"
      ],
      "execution_count": null,
      "outputs": []
    },
    {
      "cell_type": "code",
      "metadata": {
        "id": "-1pDu5xk-YXD",
        "colab_type": "code",
        "colab": {}
      },
      "source": [
        "rcParams['figure.figsize'] = 8, 16"
      ],
      "execution_count": null,
      "outputs": []
    },
    {
      "cell_type": "code",
      "metadata": {
        "id": "KFceePJoh8tW",
        "colab_type": "code",
        "colab": {}
      },
      "source": [
        "reader = easyocr.Reader(['en', 'hi'])"
      ],
      "execution_count": null,
      "outputs": []
    },
    {
      "cell_type": "code",
      "metadata": {
        "id": "1AMZ27DJ-j6Q",
        "colab_type": "code",
        "colab": {}
      },
      "source": [
        "file_name = \"Image.jpg\""
      ],
      "execution_count": null,
      "outputs": []
    },
    {
      "cell_type": "code",
      "metadata": {
        "id": "xeIFHSo4rgb3",
        "colab_type": "code",
        "colab": {}
      },
      "source": [
        "Image(file_name)"
      ],
      "execution_count": null,
      "outputs": []
    },
    {
      "cell_type": "code",
      "metadata": {
        "id": "OTAtJVfWiAmY",
        "colab_type": "code",
        "colab": {}
      },
      "source": [
        "output = reader.readtext(file_name)"
      ],
      "execution_count": null,
      "outputs": []
    },
    {
      "cell_type": "code",
      "metadata": {
        "id": "a3ExixuoohLq",
        "colab_type": "code",
        "colab": {}
      },
      "source": [
        "output"
      ],
      "execution_count": null,
      "outputs": []
    },
    {
      "cell_type": "code",
      "metadata": {
        "id": "WOlAD5h5ojmY",
        "colab_type": "code",
        "colab": {}
      },
      "source": [
        "cord = output[4][0]"
      ],
      "execution_count": null,
      "outputs": []
    },
    {
      "cell_type": "code",
      "metadata": {
        "id": "2rLxzJE8pa-D",
        "colab_type": "code",
        "colab": {}
      },
      "source": [
        "x_min, y_min = [int(min(idx)) for idx in zip(*cord)]"
      ],
      "execution_count": null,
      "outputs": []
    },
    {
      "cell_type": "code",
      "metadata": {
        "id": "IknlzdtNopOS",
        "colab_type": "code",
        "colab": {}
      },
      "source": [
        "x_max, y_max = [int(max(idx)) for idx in zip(*cord)]"
      ],
      "execution_count": null,
      "outputs": []
    },
    {
      "cell_type": "code",
      "metadata": {
        "id": "Z596GplWiSbr",
        "colab_type": "code",
        "colab": {}
      },
      "source": [
        "image = cv2.imread(file_name)\n",
        "cv2.rectangle(image,(x_min,y_min),(x_max,y_max),(255,0,0),2)\n",
        "plt.imshow(cv2.cvtColor(image, cv2.COLOR_BGR2RGB))"
      ],
      "execution_count": null,
      "outputs": []
    },
    {
      "cell_type": "code",
      "metadata": {
        "id": "I8AaVEuIyIWd",
        "colab_type": "code",
        "colab": {}
      },
      "source": [
        ""
      ],
      "execution_count": null,
      "outputs": []
    }
  ]
}